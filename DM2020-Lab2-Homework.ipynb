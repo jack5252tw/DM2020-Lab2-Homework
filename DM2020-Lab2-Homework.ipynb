{
 "cells": [
  {
   "cell_type": "markdown",
   "metadata": {},
   "source": [
    "### Student Information\n",
    "Name: 杜政諺\n",
    "\n",
    "Student ID: 108061542\n",
    "\n",
    "GitHub ID: jack5252tw\n",
    "\n",
    "Kaggle name: Yan\n",
    "\n",
    "Kaggle private scoreboard snapshot:\n",
    "![pic0](img/pic0.png)\n",
    "\n",
    "[Snapshot](img/pic0.png)"
   ]
  },
  {
   "cell_type": "markdown",
   "metadata": {},
   "source": [
    "---"
   ]
  },
  {
   "cell_type": "markdown",
   "metadata": {},
   "source": [
    "### Instructions"
   ]
  },
  {
   "cell_type": "markdown",
   "metadata": {},
   "source": [
    "1. First: __This part is worth 30% of your grade.__ Do the **take home** exercises in the [DM2020-Lab2-Master Repo](https://github.com/fhcalderon87/DM2020-Lab2-Master). You may need to copy some cells from the Lab notebook to this notebook. \n",
    "\n",
    "\n",
    "2. Second: __This part is worth 30% of your grade.__ Participate in the in-class [Kaggle Competition](https://www.kaggle.com/c/dm2020-hw2-nthu/) regarding Emotion Recognition on Twitter. The scoring will be given according to your place in the Private Leaderboard ranking: \n",
    "    - **Bottom 40%**: Get 20% of the score (ie. 20% of 30% )\n",
    "\n",
    "    - **Top 41% - 100%**: Get (101-x)% of the score, where x is your ranking in the leaderboard (ie. (101-x)% of 30% )   \n",
    "    Submit your last submission __BEFORE the deadline (Dec. 5th 11:59 pm, Saturday)__. Make sure to take a screenshot of your position at the end of the competition and store it as '''pic0.png''' under the **img** folder of this repository and rerun the cell **Student Information**.\n",
    "    \n",
    "\n",
    "3. Third: __This part is worth 30% of your grade.__ A report of your work developping the model for the competition (You can use code and comment it). This report should include what your preprocessing steps, the feature engineering steps and an explanation of your model. You can also mention different things you tried and insights you gained. \n",
    "\n",
    "\n",
    "4. Fourth: __This part is worth 10% of your grade.__ It's hard for us to follow if your code is messy :'(, so please **tidy up your notebook** and **add minimal comments where needed**.\n",
    "\n",
    "\n",
    "You can submit your homework following these guidelines: [Git Intro & How to hand your homework](https://github.com/fhcalderon87/DM2020-Lab1-Master/blob/master/Git%20Intro%20%26%20How%20to%20hand%20your%20homework.ipynb), but make sure to fork the [DM2020-Lab2-Homework](https://github.com/fhcalderon87/DM2020-Lab2-Homework) repository this time! Also please __DON´T UPLOAD HUGE DOCUMENTS__, please use Git ignore for that.\n",
    "\n",
    "Make sure to commit and save your changes to your repository __BEFORE the deadline (Dec. 8th 11:59 pm, Tuesday)__. "
   ]
  },
  {
   "cell_type": "markdown",
   "metadata": {},
   "source": [
    "## <center> Part I"
   ]
  },
  {
   "cell_type": "code",
   "execution_count": 2,
   "metadata": {},
   "outputs": [
    {
     "name": "stdout",
     "output_type": "stream",
     "text": [
      "Shape of Training df:  (3613, 4)\n",
      "Shape of Testing df:  (347, 4)\n"
     ]
    }
   ],
   "source": [
    "import pandas as pd\n",
    "\n",
    "#------------------------------------------------------------------------------\n",
    "#-----Training data\n",
    "#------------------------------------------------------------------------------\n",
    "anger_train = pd.read_csv(\"data/semeval/train/anger-ratings-0to1.train.txt\",\n",
    "                         sep=\"\\t\", header=None,names=[\"id\", \"text\", \"emotion\", \"intensity\"])\n",
    "sadness_train = pd.read_csv(\"data/semeval/train/sadness-ratings-0to1.train.txt\",\n",
    "                         sep=\"\\t\", header=None, names=[\"id\", \"text\", \"emotion\", \"intensity\"])\n",
    "fear_train = pd.read_csv(\"data/semeval/train/fear-ratings-0to1.train.txt\",\n",
    "                         sep=\"\\t\", header=None, names=[\"id\", \"text\", \"emotion\", \"intensity\"])\n",
    "joy_train = pd.read_csv(\"data/semeval/train/joy-ratings-0to1.train.txt\",\n",
    "                         sep=\"\\t\", header=None, names=[\"id\", \"text\", \"emotion\", \"intensity\"])\n",
    "\n",
    "# combine 4 sub-dataset\n",
    "train_df = pd.concat([anger_train, fear_train, joy_train, sadness_train], ignore_index=True)\n",
    "\n",
    "#------------------------------------------------------------------------------\n",
    "#-----Testing data\n",
    "#------------------------------------------------------------------------------\n",
    "anger_test = pd.read_csv(\"data/semeval/dev/anger-ratings-0to1.dev.gold.txt\",\n",
    "                         sep=\"\\t\", header=None, names=[\"id\", \"text\", \"emotion\", \"intensity\"])\n",
    "sadness_test = pd.read_csv(\"data/semeval/dev/sadness-ratings-0to1.dev.gold.txt\",\n",
    "                         sep=\"\\t\", header=None, names=[\"id\", \"text\", \"emotion\", \"intensity\"])\n",
    "fear_test = pd.read_csv(\"data/semeval/dev/fear-ratings-0to1.dev.gold.txt\",\n",
    "                         sep=\"\\t\", header=None, names=[\"id\", \"text\", \"emotion\", \"intensity\"])\n",
    "joy_test = pd.read_csv(\"data/semeval/dev/joy-ratings-0to1.dev.gold.txt\",\n",
    "                         sep=\"\\t\", header=None, names=[\"id\", \"text\", \"emotion\", \"intensity\"])\n",
    "\n",
    "# combine 4 sub-dataset\n",
    "test_df = pd.concat([anger_test, fear_test, joy_test, sadness_test], ignore_index=True)\n",
    "\n",
    "# shuffle dataset\n",
    "train_df = train_df.sample(frac=1)\n",
    "test_df = test_df.sample(frac=1)\n",
    "\n",
    "print(\"Shape of Training df: \", train_df.shape)\n",
    "print(\"Shape of Testing df: \", test_df.shape)"
   ]
  },
  {
   "cell_type": "markdown",
   "metadata": {},
   "source": [
    "---\n",
    "### ** >>> Exercise 1 (Take home): **  \n",
    "Plot word frequency for Top 30 words in both train and test dataset. (Hint: refer to DM lab 1)\n"
   ]
  },
  {
   "cell_type": "code",
   "execution_count": 6,
   "metadata": {},
   "outputs": [
    {
     "name": "stdout",
     "output_type": "stream",
     "text": [
      "Top 30 words in train :\n",
      "\n",
      "['the', 'to', 'and', 'you', 'of', 'is', 'it', 'in', 'that', 'my', 'for', 'on', 'be', 'me', 'this', 'so', 'have', 'not', 'just', 'but', 'with', 'at', 'can', 'all', 'like', 'are', 'your', 'was', 'when', 'if']\n",
      "\n",
      "\n",
      "Top 30 words in test :\n",
      "\n",
      "['the', 'to', 'and', 'of', 'it', 'you', 'is', 'in', 'for', 'that', 'my', 'on', 'be', 'me', 'so', 'was', 'can', 'have', 'all', 'at', 'just', 'with', 'are', 'get', 'but', 'not', 'up', 'like', 'your', 'this']\n"
     ]
    }
   ],
   "source": [
    "%matplotlib inline\n",
    "from sklearn.feature_extraction.text import CountVectorizer\n",
    "\n",
    "def Show_top_30_words_with_highest_word_frequency(data_df):\n",
    "\n",
    "    vecterizer = CountVectorizer()\n",
    "    count = vecterizer.fit_transform(data_df.text).toarray()\n",
    "    Word_frequency = sum(count)\n",
    "    Word = vecterizer.get_feature_names()\n",
    "\n",
    "    df = pd.DataFrame()\n",
    "    df['Word'] = Word\n",
    "    df['Word_frequency'] = Word_frequency\n",
    "\n",
    "    df = df.sort_values(by ='Word_frequency', ascending=False )\n",
    "\n",
    "    return df.head(30)\n",
    "\n",
    "print('Top 30 words in train :\\n')\n",
    "print(list(Show_top_30_words_with_highest_word_frequency(train_df)['Word']))\n",
    "print('\\n')\n",
    "print('Top 30 words in test :\\n')\n",
    "print(list(Show_top_30_words_with_highest_word_frequency(test_df)['Word']))"
   ]
  },
  {
   "cell_type": "code",
   "execution_count": 7,
   "metadata": {},
   "outputs": [
    {
     "data": {
      "text/plain": [
       "<matplotlib.axes._subplots.AxesSubplot at 0x260c27fbe88>"
      ]
     },
     "execution_count": 7,
     "metadata": {},
     "output_type": "execute_result"
    },
    {
     "data": {
      "image/png": "[encoded data removed]",
      "text/plain": [
       "<Figure size 1152x288 with 1 Axes>"
      ]
     },
     "metadata": {
      "needs_background": "light"
     },
     "output_type": "display_data"
    }
   ],
   "source": [
    "df1 = Show_top_30_words_with_highest_word_frequency(train_df)\n",
    "\n",
    "df1.index = df1.Word\n",
    "df1.plot(kind = 'bar',\n",
    "        title = 'Top 30 words distribution in Train',     \n",
    "        rot = 45, fontsize = 11, figsize = (16,4))"
   ]
  },
  {
   "cell_type": "code",
   "execution_count": 8,
   "metadata": {},
   "outputs": [
    {
     "data": {
      "text/plain": [
       "<matplotlib.axes._subplots.AxesSubplot at 0x260bff2cd88>"
      ]
     },
     "execution_count": 8,
     "metadata": {},
     "output_type": "execute_result"
    },
    {
     "data": {
      "image/png": "[encoded data removed]",
      "text/plain": [
       "<Figure size 1152x288 with 1 Axes>"
      ]
     },
     "metadata": {
      "needs_background": "light"
     },
     "output_type": "display_data"
    }
   ],
   "source": [
    "df2 = Show_top_30_words_with_highest_word_frequency(test_df)\n",
    "\n",
    "df2.index = df2.Word\n",
    "df2.plot(kind = 'bar',\n",
    "        title = 'Top 30 words distribution in Test',     \n",
    "        rot = 45, fontsize = 11, figsize = (16,4))"
   ]
  },
  {
   "cell_type": "code",
   "execution_count": null,
   "metadata": {},
   "outputs": [],
   "source": [
    "# Save to .pkl file\n",
    "train_df.to_pickle(\"train_df.pkl\") \n",
    "test_df.to_pickle(\"test_df.pkl\")\n",
    "## load pickle file\n",
    "train_df = pd.read_pickle(\"train_df.pkl\")\n",
    "test_df = pd.read_pickle(\"test_df.pkl\")"
   ]
  },
  {
   "cell_type": "markdown",
   "metadata": {},
   "source": [
    "---\n",
    "### ** >>> Exercise 2 (Take home): **  \n",
    "Generate an embedding using the TF-IDF vectorizer instead of th BOW one with 1000 features and show the feature names for features [100:110]."
   ]
  },
  {
   "cell_type": "code",
   "execution_count": 9,
   "metadata": {},
   "outputs": [
    {
     "name": "stdout",
     "output_type": "stream",
     "text": [
      "Train TF-iDF matrix shape :  (3613, 1000)\n",
      "Test TF-iDF matrix shape :  (347, 1000)\n",
      "\n",
      "\n",
      "The 100 ~ 110 feature names : \n",
      " ['bitter', 'black', 'blacks', 'blame', 'blessed', 'blood', 'bloody', 'blues', 'body', 'boiling']\n"
     ]
    }
   ],
   "source": [
    "# Answer here\n",
    "from sklearn.feature_extraction.text import TfidfVectorizer\n",
    "\n",
    "def embedding_using_the_TF_IDF_vectorizer(df_train, df_test):\n",
    "    \n",
    "    vecterizer = TfidfVectorizer(max_features=1000)\n",
    "    tfidf = vecterizer.fit_transform(df_train.text)\n",
    "    tfidf_matrix_train = tfidf.toarray()\n",
    "    \n",
    "    tfidf = vecterizer.transform(df_test.text)\n",
    "    tfidf_matrix_test = tfidf.toarray()\n",
    "    \n",
    "    print('Train TF-iDF matrix shape : ', tfidf_matrix_train.shape)\n",
    "    print('Test TF-iDF matrix shape : ',  tfidf_matrix_test.shape)  \n",
    "    print('\\n')\n",
    "    print('The 100 ~ 110 feature names : \\n', vecterizer.get_feature_names()[100:110])\n",
    "    \n",
    "    return tfidf_matrix_train, tfidf_matrix_test\n",
    "\n",
    "tfidf_matrix_train, tfidf_matrix_test = embedding_using_the_TF_IDF_vectorizer(train_df, test_df)"
   ]
  },
  {
   "cell_type": "code",
   "execution_count": 11,
   "metadata": {},
   "outputs": [
    {
     "name": "stdout",
     "output_type": "stream",
     "text": [
      "X_train.shape:  (3613, 500)\n",
      "y_train.shape:  (3613,)\n",
      "X_test.shape:  (347, 500)\n",
      "y_test.shape:  (347,)\n"
     ]
    }
   ],
   "source": [
    "import nltk\n",
    "\n",
    "# build analyzers (bag-of-words)\n",
    "BOW_500 = CountVectorizer(max_features=500, tokenizer=nltk.word_tokenize) \n",
    "\n",
    "# apply analyzer to training data\n",
    "BOW_500.fit(train_df['text'])\n",
    "\n",
    "# for a classificaiton problem, you need to provide both training & testing data\n",
    "X_train = BOW_500.transform(train_df['text'])\n",
    "y_train = train_df['emotion']\n",
    "\n",
    "X_test = BOW_500.transform(test_df['text'])\n",
    "y_test = test_df['emotion']\n",
    "\n",
    "## take a look at data dimension is a good habbit  :)\n",
    "print('X_train.shape: ', X_train.shape)\n",
    "print('y_train.shape: ', y_train.shape)\n",
    "print('X_test.shape: ', X_test.shape)\n",
    "print('y_test.shape: ', y_test.shape)"
   ]
  },
  {
   "cell_type": "code",
   "execution_count": 12,
   "metadata": {},
   "outputs": [
    {
     "name": "stdout",
     "output_type": "stream",
     "text": [
      "training accuracy: 0.99\n",
      "testing accuracy: 0.64\n"
     ]
    }
   ],
   "source": [
    "from sklearn.tree import DecisionTreeClassifier\n",
    "\n",
    "## build DecisionTree model\n",
    "DT_model = DecisionTreeClassifier(random_state=0)\n",
    "\n",
    "## training!\n",
    "DT_model = DT_model.fit(X_train, y_train)\n",
    "\n",
    "## predict!\n",
    "y_train_pred = DT_model.predict(X_train)\n",
    "y_test_pred = DT_model.predict(X_test)\n",
    "\n",
    "## accuracy\n",
    "from sklearn.metrics import accuracy_score\n",
    "\n",
    "acc_train = accuracy_score(y_true=y_train, y_pred=y_train_pred)\n",
    "acc_test = accuracy_score(y_true=y_test, y_pred=y_test_pred)\n",
    "\n",
    "print('training accuracy: {}'.format(round(acc_train, 2)))\n",
    "print('testing accuracy: {}'.format(round(acc_test, 2)))"
   ]
  },
  {
   "cell_type": "code",
   "execution_count": 13,
   "metadata": {},
   "outputs": [
    {
     "name": "stdout",
     "output_type": "stream",
     "text": [
      "              precision    recall  f1-score   support\n",
      "\n",
      "       anger       0.65      0.65      0.65        84\n",
      "        fear       0.62      0.64      0.63       110\n",
      "         joy       0.67      0.68      0.68        79\n",
      "     sadness       0.61      0.57      0.59        74\n",
      "\n",
      "    accuracy                           0.64       347\n",
      "   macro avg       0.64      0.64      0.64       347\n",
      "weighted avg       0.64      0.64      0.64       347\n",
      "\n"
     ]
    }
   ],
   "source": [
    "## precision, recall, f1-score,\n",
    "from sklearn.metrics import classification_report\n",
    "\n",
    "print(classification_report(y_true=y_test, y_pred=y_test_pred))"
   ]
  },
  {
   "cell_type": "code",
   "execution_count": 14,
   "metadata": {},
   "outputs": [],
   "source": [
    "# Funciton for visualizing confusion_matrix\n",
    "import matplotlib.pyplot as plt\n",
    "import seaborn as sns\n",
    "import numpy as np\n",
    "import itertools\n",
    "\n",
    "def plot_confusion_matrix(cm, classes, title='Confusion matrix',\n",
    "                          cmap=sns.cubehelix_palette(as_cmap=True)):\n",
    "    \"\"\"\n",
    "    This function is modified from: \n",
    "    http://scikit-learn.org/stable/auto_examples/model_selection/plot_confusion_matrix.html\n",
    "    \"\"\"\n",
    "    classes.sort()\n",
    "    tick_marks = np.arange(len(classes))    \n",
    "    \n",
    "    fig, ax = plt.subplots(figsize=(5,5))\n",
    "    im = ax.imshow(cm, interpolation='nearest', cmap=cmap)\n",
    "    ax.figure.colorbar(im, ax=ax)\n",
    "    ax.set(xticks=np.arange(cm.shape[1]),\n",
    "           yticks=np.arange(cm.shape[0]),\n",
    "           xticklabels = classes,\n",
    "           yticklabels = classes,\n",
    "           title = title,\n",
    "           xlabel = 'True label',\n",
    "           ylabel = 'Predicted label')\n",
    "\n",
    "    fmt = 'd'\n",
    "    thresh = cm.max() / 2.\n",
    "    for i, j in itertools.product(range(cm.shape[0]), range(cm.shape[1])):\n",
    "        plt.text(j, i, format(cm[i, j], fmt), horizontalalignment=\"center\", color=\"white\" if cm[i, j] > thresh else \"black\")\n",
    "    ylim_top = len(classes) - 0.5\n",
    "    plt.ylim([ylim_top, -.5])\n",
    "    plt.tight_layout()\n",
    "    plt.show()"
   ]
  },
  {
   "cell_type": "code",
   "execution_count": 16,
   "metadata": {},
   "outputs": [
    {
     "data": {
      "image/png": "[encoded data removed]",
      "text/plain": [
       "<Figure size 360x360 with 2 Axes>"
      ]
     },
     "metadata": {
      "needs_background": "light"
     },
     "output_type": "display_data"
    }
   ],
   "source": [
    "from sklearn.metrics import confusion_matrix\n",
    "\n",
    "cm = confusion_matrix(y_true=y_test, y_pred=y_test_pred) \n",
    "my_tags = ['anger', 'fear', 'joy', 'sadness']\n",
    "plot_confusion_matrix(cm, classes=my_tags, title='Confusion matrix')"
   ]
  },
  {
   "cell_type": "markdown",
   "metadata": {},
   "source": [
    "---\n",
    "### ** >>> Exercise 3 (Take home): **  \n",
    "Can you interpret the results above? What do they mean?"
   ]
  },
  {
   "cell_type": "markdown",
   "metadata": {},
   "source": [
    "##### Answer here\n",
    "\n",
    "* First, For the training accuracy and testing accuracy shown above, we can see the decision tree classifier overfits on the training data so much, which achieve 99% accuracy on training, but only get 64% on testing. \n",
    "<br>\n",
    "* Second, We can see the precision and recall for each class from the classification_report. In average, for one emotion in test data, the classifier can succesfully get 64% of them (recall); for one emotion type that the classifer predict, the classifier do 64% right, 36% wrong (precision).\n",
    "<br>\n",
    "* Third, The confusion matrix gives us this information : For each class, how many datas the model predict right, and how many datas be classified to other wrong classes. \n",
    "<br>\n",
    "* Last, from the confusion matrix, We can discover the difference between anger, fear and sadness may be more difficult to recognize by the model. "
   ]
  },
  {
   "cell_type": "markdown",
   "metadata": {},
   "source": [
    "---\n",
    "### ** >>> Exercise 4 (Take home): **  \n",
    "Build a model using a ```Naive Bayes``` model and train it. What are the testing results? "
   ]
  },
  {
   "cell_type": "code",
   "execution_count": 17,
   "metadata": {},
   "outputs": [
    {
     "name": "stdout",
     "output_type": "stream",
     "text": [
      "Naive Bayes Classifier training acc :  0.7929698311652367\n",
      "Naive Bayes Classifier testing acc :  0.7175792507204611\n"
     ]
    }
   ],
   "source": [
    "# Answer here\n",
    "from sklearn.naive_bayes import MultinomialNB\n",
    "from sklearn.metrics import accuracy_score\n",
    "\n",
    "clf = MultinomialNB()\n",
    "clf.fit(X_train, y_train)\n",
    "y_pred_1 = clf.predict(X_train)\n",
    "y_pred_2 = clf.predict(X_test)\n",
    "\n",
    "print('Naive Bayes Classifier training acc : ', accuracy_score(y_train, y_pred_1))\n",
    "print('Naive Bayes Classifier testing acc : ', accuracy_score(y_test, y_pred_2))"
   ]
  },
  {
   "cell_type": "code",
   "execution_count": 18,
   "metadata": {},
   "outputs": [
    {
     "name": "stdout",
     "output_type": "stream",
     "text": [
      "              precision    recall  f1-score   support\n",
      "\n",
      "       anger       0.71      0.65      0.68        84\n",
      "        fear       0.74      0.83      0.78       110\n",
      "         joy       0.76      0.71      0.73        79\n",
      "     sadness       0.65      0.64      0.64        74\n",
      "\n",
      "    accuracy                           0.72       347\n",
      "   macro avg       0.71      0.71      0.71       347\n",
      "weighted avg       0.72      0.72      0.72       347\n",
      "\n"
     ]
    }
   ],
   "source": [
    "print(classification_report(y_true=y_test, y_pred=y_pred_2))"
   ]
  },
  {
   "cell_type": "markdown",
   "metadata": {},
   "source": [
    "---\n",
    "### ** >>> Exercise 5 (Take home): **  \n",
    "\n",
    "How do the results from the Naive Bayes model and the Decision Tree model compare? How do you interpret these differences? Use the theoretical background covered in class to try and explain these differences."
   ]
  },
  {
   "cell_type": "markdown",
   "metadata": {},
   "source": [
    "##### Answer here\n",
    "* First, as we can see above, the naive bayse model got a lower accuracy on training data but better performance on testing data. (In comparison of decision tree model)\n",
    "\n",
    "* Second, demonstrate the pros and cons for the two model below:\n",
    "\n",
    "  Decision tree: \n",
    "      Pro:\n",
    "          1. Can easily generate explainable logic for classification.\n",
    "          2. Can easily fine tune the hyper parameter with some domain knowledge(If we have).\n",
    "      Con:\n",
    "          1. Easily overfitting on the training dataset.\n",
    "  \n",
    "  Naive bayse:\n",
    "      Pro:\n",
    "          1. Use the general statistic information for classification. Not that easy to overfit to much.\n",
    "      Con:\n",
    "          1. Performance may be more sensitive due to data label unbalance.\n",
    "          2. Dependencies between features may decrease the performance.\n",
    "\n",
    "  The decision tree model here do not restict its model complexity, hence it overfits too much on the training data.\n",
    "  \n",
    "  In contrast, naive bayse performs better.\n",
    "  \n",
    "  Besides, from the perfomance in each class, we can also see the naive bayes have the best performance on 'fear', the worst\n",
    "  performance on 'sadness'. Which shows the performance of naive bayse model may be more sensitive due to data label unbalance"
   ]
  },
  {
   "cell_type": "code",
   "execution_count": 20,
   "metadata": {},
   "outputs": [
    {
     "name": "stdout",
     "output_type": "stream",
     "text": [
      "check label:  ['anger' 'fear' 'joy' 'sadness']\n",
      "\n",
      "## Before convert\n",
      "y_train[0:4]:\n",
      " 2964    sadness\n",
      "1453       fear\n",
      "1814       fear\n",
      "3271    sadness\n",
      "Name: emotion, dtype: object\n",
      "\n",
      "y_train.shape:  (3613,)\n",
      "y_test.shape:  (347,)\n",
      "\n",
      "\n",
      "## After convert\n",
      "y_train[0:4]:\n",
      " [[0. 0. 0. 1.]\n",
      " [0. 1. 0. 0.]\n",
      " [0. 1. 0. 0.]\n",
      " [0. 0. 0. 1.]]\n",
      "\n",
      "y_train.shape:  (3613, 4)\n",
      "y_test.shape:  (347, 4)\n"
     ]
    },
    {
     "name": "stderr",
     "output_type": "stream",
     "text": [
      "Using TensorFlow backend.\n"
     ]
    }
   ],
   "source": [
    "import tensorflow as tf\n",
    "import keras\n",
    "\n",
    "## deal with label (string -> one-hot)\n",
    "from sklearn.preprocessing import LabelEncoder\n",
    "\n",
    "label_encoder = LabelEncoder()\n",
    "label_encoder.fit(y_train)\n",
    "print('check label: ', label_encoder.classes_)\n",
    "print('\\n## Before convert')\n",
    "print('y_train[0:4]:\\n', y_train[0:4])\n",
    "print('\\ny_train.shape: ', y_train.shape)\n",
    "print('y_test.shape: ', y_test.shape)\n",
    "\n",
    "def label_encode(le, labels):\n",
    "    enc = le.transform(labels)\n",
    "    return keras.utils.to_categorical(enc)\n",
    "\n",
    "def label_decode(le, one_hot_label):\n",
    "    dec = np.argmax(one_hot_label, axis=1)\n",
    "    return le.inverse_transform(dec)\n",
    "\n",
    "y_train = label_encode(label_encoder, y_train)\n",
    "y_test = label_encode(label_encoder, y_test)\n",
    "\n",
    "print('\\n\\n## After convert')\n",
    "print('y_train[0:4]:\\n', y_train[0:4])\n",
    "print('\\ny_train.shape: ', y_train.shape)\n",
    "print('y_test.shape: ', y_test.shape)"
   ]
  },
  {
   "cell_type": "code",
   "execution_count": 21,
   "metadata": {},
   "outputs": [
    {
     "name": "stdout",
     "output_type": "stream",
     "text": [
      "input_shape:  500\n",
      "output_shape:  4\n"
     ]
    }
   ],
   "source": [
    "# I/O check\n",
    "input_shape = X_train.shape[1]\n",
    "print('input_shape: ', input_shape)\n",
    "\n",
    "output_shape = len(label_encoder.classes_)\n",
    "print('output_shape: ', output_shape)"
   ]
  },
  {
   "cell_type": "code",
   "execution_count": 22,
   "metadata": {},
   "outputs": [
    {
     "name": "stdout",
     "output_type": "stream",
     "text": [
      "Model: \"model_1\"\n",
      "_________________________________________________________________\n",
      "Layer (type)                 Output Shape              Param #   \n",
      "=================================================================\n",
      "input_1 (InputLayer)         (None, 500)               0         \n",
      "_________________________________________________________________\n",
      "dense_1 (Dense)              (None, 64)                32064     \n",
      "_________________________________________________________________\n",
      "re_lu_1 (ReLU)               (None, 64)                0         \n",
      "_________________________________________________________________\n",
      "dense_2 (Dense)              (None, 64)                4160      \n",
      "_________________________________________________________________\n",
      "re_lu_2 (ReLU)               (None, 64)                0         \n",
      "_________________________________________________________________\n",
      "dense_3 (Dense)              (None, 4)                 260       \n",
      "_________________________________________________________________\n",
      "softmax_1 (Softmax)          (None, 4)                 0         \n",
      "=================================================================\n",
      "Total params: 36,484\n",
      "Trainable params: 36,484\n",
      "Non-trainable params: 0\n",
      "_________________________________________________________________\n"
     ]
    }
   ],
   "source": [
    "from keras.models import Model\n",
    "from keras.layers import Input, Dense\n",
    "from keras.layers import ReLU, Softmax\n",
    "\n",
    "# input layer\n",
    "model_input = Input(shape=(input_shape, ))  # 500\n",
    "X = model_input\n",
    "\n",
    "# 1st hidden layer\n",
    "X_W1 = Dense(units=64)(X)  # 64\n",
    "H1 = ReLU()(X_W1)\n",
    "\n",
    "# 2nd hidden layer\n",
    "H1_W2 = Dense(units=64)(H1)  # 64\n",
    "H2 = ReLU()(H1_W2)\n",
    "\n",
    "# output layer\n",
    "H2_W3 = Dense(units=output_shape)(H2)  # 4\n",
    "H3 = Softmax()(H2_W3)\n",
    "\n",
    "model_output = H3\n",
    "\n",
    "# create model\n",
    "model = Model(inputs=[model_input], outputs=[model_output])\n",
    "\n",
    "# loss function & optimizer\n",
    "model.compile(optimizer='adam',\n",
    "              loss='categorical_crossentropy',\n",
    "              metrics=['accuracy'])\n",
    "\n",
    "# show model construction\n",
    "model.summary()"
   ]
  },
  {
   "cell_type": "code",
   "execution_count": 23,
   "metadata": {},
   "outputs": [
    {
     "name": "stdout",
     "output_type": "stream",
     "text": [
      "Train on 3613 samples, validate on 347 samples\n",
      "Epoch 1/25\n",
      "3613/3613 [==============================] - 1s 172us/step - loss: 1.3204 - accuracy: 0.3878 - val_loss: 1.2658 - val_accuracy: 0.4870\n",
      "Epoch 2/25\n",
      "3613/3613 [==============================] - 0s 86us/step - loss: 0.9289 - accuracy: 0.6864 - val_loss: 0.8925 - val_accuracy: 0.6715\n",
      "Epoch 3/25\n",
      "3613/3613 [==============================] - 0s 88us/step - loss: 0.5445 - accuracy: 0.8107 - val_loss: 0.7833 - val_accuracy: 0.6830\n",
      "Epoch 4/25\n",
      "3613/3613 [==============================] - 0s 81us/step - loss: 0.4009 - accuracy: 0.8505 - val_loss: 0.7778 - val_accuracy: 0.7176\n",
      "Epoch 5/25\n",
      "3613/3613 [==============================] - 0s 84us/step - loss: 0.3169 - accuracy: 0.8849 - val_loss: 0.8428 - val_accuracy: 0.6916\n",
      "Epoch 6/25\n",
      "3613/3613 [==============================] - 0s 85us/step - loss: 0.2617 - accuracy: 0.9098 - val_loss: 0.9092 - val_accuracy: 0.6916\n",
      "Epoch 7/25\n",
      "3613/3613 [==============================] - 0s 88us/step - loss: 0.2186 - accuracy: 0.9264 - val_loss: 0.9364 - val_accuracy: 0.6657\n",
      "Epoch 8/25\n",
      "3613/3613 [==============================] - 0s 89us/step - loss: 0.1797 - accuracy: 0.9449 - val_loss: 1.0715 - val_accuracy: 0.6772\n",
      "Epoch 9/25\n",
      "3613/3613 [==============================] - 0s 89us/step - loss: 0.1520 - accuracy: 0.9565 - val_loss: 1.0744 - val_accuracy: 0.6599\n",
      "Epoch 10/25\n",
      "3613/3613 [==============================] - 0s 86us/step - loss: 0.1374 - accuracy: 0.9582 - val_loss: 1.1627 - val_accuracy: 0.6772\n",
      "Epoch 11/25\n",
      "3613/3613 [==============================] - 0s 84us/step - loss: 0.1203 - accuracy: 0.9615 - val_loss: 1.1874 - val_accuracy: 0.6715\n",
      "Epoch 12/25\n",
      "3613/3613 [==============================] - 0s 85us/step - loss: 0.1181 - accuracy: 0.9648 - val_loss: 1.2320 - val_accuracy: 0.6744\n",
      "Epoch 13/25\n",
      "3613/3613 [==============================] - 0s 89us/step - loss: 0.1018 - accuracy: 0.9693 - val_loss: 1.2815 - val_accuracy: 0.6427\n",
      "Epoch 14/25\n",
      "3613/3613 [==============================] - 0s 84us/step - loss: 0.0966 - accuracy: 0.9707 - val_loss: 1.3069 - val_accuracy: 0.6686\n",
      "Epoch 15/25\n",
      "3613/3613 [==============================] - 0s 87us/step - loss: 0.0945 - accuracy: 0.9707 - val_loss: 1.3510 - val_accuracy: 0.6715\n",
      "Epoch 16/25\n",
      "3613/3613 [==============================] - 0s 87us/step - loss: 0.0896 - accuracy: 0.9729 - val_loss: 1.3613 - val_accuracy: 0.6628\n",
      "Epoch 17/25\n",
      "3613/3613 [==============================] - 0s 86us/step - loss: 0.0828 - accuracy: 0.9737 - val_loss: 1.4242 - val_accuracy: 0.6628\n",
      "Epoch 18/25\n",
      "3613/3613 [==============================] - 0s 82us/step - loss: 0.0748 - accuracy: 0.9759 - val_loss: 1.4198 - val_accuracy: 0.6599\n",
      "Epoch 19/25\n",
      "3613/3613 [==============================] - 0s 87us/step - loss: 0.0760 - accuracy: 0.9743 - val_loss: 1.4383 - val_accuracy: 0.6715\n",
      "Epoch 20/25\n",
      "3613/3613 [==============================] - 0s 86us/step - loss: 0.0718 - accuracy: 0.9759 - val_loss: 1.4806 - val_accuracy: 0.6599\n",
      "Epoch 21/25\n",
      "3613/3613 [==============================] - 0s 88us/step - loss: 0.0741 - accuracy: 0.9762 - val_loss: 1.4970 - val_accuracy: 0.6571\n",
      "Epoch 22/25\n",
      "3613/3613 [==============================] - 0s 89us/step - loss: 0.0719 - accuracy: 0.9751 - val_loss: 1.5210 - val_accuracy: 0.6657\n",
      "Epoch 23/25\n",
      "3613/3613 [==============================] - 0s 85us/step - loss: 0.0733 - accuracy: 0.9762 - val_loss: 1.5708 - val_accuracy: 0.6628\n",
      "Epoch 24/25\n",
      "3613/3613 [==============================] - 0s 86us/step - loss: 0.0640 - accuracy: 0.9776 - val_loss: 1.6244 - val_accuracy: 0.6599\n",
      "Epoch 25/25\n",
      "3613/3613 [==============================] - 0s 87us/step - loss: 0.0673 - accuracy: 0.9770 - val_loss: 1.5669 - val_accuracy: 0.6599\n",
      "training finish\n"
     ]
    }
   ],
   "source": [
    "from keras.callbacks import CSVLogger\n",
    "\n",
    "csv_logger = CSVLogger('logs/training_log.csv')\n",
    "\n",
    "# training setting\n",
    "epochs = 25\n",
    "batch_size = 32\n",
    "\n",
    "# training!\n",
    "history = model.fit(X_train, y_train, \n",
    "                    epochs=epochs, \n",
    "                    batch_size=batch_size, \n",
    "                    callbacks=[csv_logger],\n",
    "                    validation_data = (X_test, y_test))\n",
    "print('training finish')"
   ]
  },
  {
   "cell_type": "code",
   "execution_count": 24,
   "metadata": {},
   "outputs": [
    {
     "data": {
      "text/html": [
       "<div>\n",
       "<style scoped>\n",
       "    .dataframe tbody tr th:only-of-type {\n",
       "        vertical-align: middle;\n",
       "    }\n",
       "\n",
       "    .dataframe tbody tr th {\n",
       "        vertical-align: top;\n",
       "    }\n",
       "\n",
       "    .dataframe thead th {\n",
       "        text-align: right;\n",
       "    }\n",
       "</style>\n",
       "<table border=\"1\" class=\"dataframe\">\n",
       "  <thead>\n",
       "    <tr style=\"text-align: right;\">\n",
       "      <th></th>\n",
       "      <th>epoch</th>\n",
       "      <th>accuracy</th>\n",
       "      <th>loss</th>\n",
       "      <th>val_accuracy</th>\n",
       "      <th>val_loss</th>\n",
       "    </tr>\n",
       "  </thead>\n",
       "  <tbody>\n",
       "    <tr>\n",
       "      <td>0</td>\n",
       "      <td>0</td>\n",
       "      <td>0.387766</td>\n",
       "      <td>1.320433</td>\n",
       "      <td>0.487032</td>\n",
       "      <td>1.265784</td>\n",
       "    </tr>\n",
       "    <tr>\n",
       "      <td>1</td>\n",
       "      <td>1</td>\n",
       "      <td>0.686410</td>\n",
       "      <td>0.928869</td>\n",
       "      <td>0.671470</td>\n",
       "      <td>0.892455</td>\n",
       "    </tr>\n",
       "    <tr>\n",
       "      <td>2</td>\n",
       "      <td>2</td>\n",
       "      <td>0.810684</td>\n",
       "      <td>0.544549</td>\n",
       "      <td>0.682997</td>\n",
       "      <td>0.783288</td>\n",
       "    </tr>\n",
       "    <tr>\n",
       "      <td>3</td>\n",
       "      <td>3</td>\n",
       "      <td>0.850540</td>\n",
       "      <td>0.400865</td>\n",
       "      <td>0.717579</td>\n",
       "      <td>0.777842</td>\n",
       "    </tr>\n",
       "    <tr>\n",
       "      <td>4</td>\n",
       "      <td>4</td>\n",
       "      <td>0.884860</td>\n",
       "      <td>0.316933</td>\n",
       "      <td>0.691643</td>\n",
       "      <td>0.842842</td>\n",
       "    </tr>\n",
       "    <tr>\n",
       "      <td>5</td>\n",
       "      <td>5</td>\n",
       "      <td>0.909770</td>\n",
       "      <td>0.261663</td>\n",
       "      <td>0.691643</td>\n",
       "      <td>0.909188</td>\n",
       "    </tr>\n",
       "    <tr>\n",
       "      <td>6</td>\n",
       "      <td>6</td>\n",
       "      <td>0.926377</td>\n",
       "      <td>0.218621</td>\n",
       "      <td>0.665706</td>\n",
       "      <td>0.936368</td>\n",
       "    </tr>\n",
       "    <tr>\n",
       "      <td>7</td>\n",
       "      <td>7</td>\n",
       "      <td>0.944921</td>\n",
       "      <td>0.179706</td>\n",
       "      <td>0.677233</td>\n",
       "      <td>1.071458</td>\n",
       "    </tr>\n",
       "    <tr>\n",
       "      <td>8</td>\n",
       "      <td>8</td>\n",
       "      <td>0.956546</td>\n",
       "      <td>0.151955</td>\n",
       "      <td>0.659942</td>\n",
       "      <td>1.074402</td>\n",
       "    </tr>\n",
       "    <tr>\n",
       "      <td>9</td>\n",
       "      <td>9</td>\n",
       "      <td>0.958207</td>\n",
       "      <td>0.137433</td>\n",
       "      <td>0.677233</td>\n",
       "      <td>1.162666</td>\n",
       "    </tr>\n",
       "    <tr>\n",
       "      <td>10</td>\n",
       "      <td>10</td>\n",
       "      <td>0.961528</td>\n",
       "      <td>0.120265</td>\n",
       "      <td>0.671470</td>\n",
       "      <td>1.187410</td>\n",
       "    </tr>\n",
       "    <tr>\n",
       "      <td>11</td>\n",
       "      <td>11</td>\n",
       "      <td>0.964849</td>\n",
       "      <td>0.118109</td>\n",
       "      <td>0.674352</td>\n",
       "      <td>1.231954</td>\n",
       "    </tr>\n",
       "    <tr>\n",
       "      <td>12</td>\n",
       "      <td>12</td>\n",
       "      <td>0.969278</td>\n",
       "      <td>0.101824</td>\n",
       "      <td>0.642651</td>\n",
       "      <td>1.281527</td>\n",
       "    </tr>\n",
       "    <tr>\n",
       "      <td>13</td>\n",
       "      <td>13</td>\n",
       "      <td>0.970661</td>\n",
       "      <td>0.096609</td>\n",
       "      <td>0.668588</td>\n",
       "      <td>1.306869</td>\n",
       "    </tr>\n",
       "    <tr>\n",
       "      <td>14</td>\n",
       "      <td>14</td>\n",
       "      <td>0.970661</td>\n",
       "      <td>0.094541</td>\n",
       "      <td>0.671470</td>\n",
       "      <td>1.351030</td>\n",
       "    </tr>\n",
       "    <tr>\n",
       "      <td>15</td>\n",
       "      <td>15</td>\n",
       "      <td>0.972876</td>\n",
       "      <td>0.089598</td>\n",
       "      <td>0.662824</td>\n",
       "      <td>1.361344</td>\n",
       "    </tr>\n",
       "    <tr>\n",
       "      <td>16</td>\n",
       "      <td>16</td>\n",
       "      <td>0.973706</td>\n",
       "      <td>0.082814</td>\n",
       "      <td>0.662824</td>\n",
       "      <td>1.424182</td>\n",
       "    </tr>\n",
       "    <tr>\n",
       "      <td>17</td>\n",
       "      <td>17</td>\n",
       "      <td>0.975920</td>\n",
       "      <td>0.074834</td>\n",
       "      <td>0.659942</td>\n",
       "      <td>1.419805</td>\n",
       "    </tr>\n",
       "    <tr>\n",
       "      <td>18</td>\n",
       "      <td>18</td>\n",
       "      <td>0.974260</td>\n",
       "      <td>0.076001</td>\n",
       "      <td>0.671470</td>\n",
       "      <td>1.438282</td>\n",
       "    </tr>\n",
       "    <tr>\n",
       "      <td>19</td>\n",
       "      <td>19</td>\n",
       "      <td>0.975920</td>\n",
       "      <td>0.071804</td>\n",
       "      <td>0.659942</td>\n",
       "      <td>1.480592</td>\n",
       "    </tr>\n",
       "    <tr>\n",
       "      <td>20</td>\n",
       "      <td>20</td>\n",
       "      <td>0.976197</td>\n",
       "      <td>0.074118</td>\n",
       "      <td>0.657061</td>\n",
       "      <td>1.497049</td>\n",
       "    </tr>\n",
       "    <tr>\n",
       "      <td>21</td>\n",
       "      <td>21</td>\n",
       "      <td>0.975090</td>\n",
       "      <td>0.071904</td>\n",
       "      <td>0.665706</td>\n",
       "      <td>1.521040</td>\n",
       "    </tr>\n",
       "    <tr>\n",
       "      <td>22</td>\n",
       "      <td>22</td>\n",
       "      <td>0.976197</td>\n",
       "      <td>0.073301</td>\n",
       "      <td>0.662824</td>\n",
       "      <td>1.570789</td>\n",
       "    </tr>\n",
       "    <tr>\n",
       "      <td>23</td>\n",
       "      <td>23</td>\n",
       "      <td>0.977581</td>\n",
       "      <td>0.064013</td>\n",
       "      <td>0.659942</td>\n",
       "      <td>1.624448</td>\n",
       "    </tr>\n",
       "    <tr>\n",
       "      <td>24</td>\n",
       "      <td>24</td>\n",
       "      <td>0.977027</td>\n",
       "      <td>0.067298</td>\n",
       "      <td>0.659942</td>\n",
       "      <td>1.566864</td>\n",
       "    </tr>\n",
       "  </tbody>\n",
       "</table>\n",
       "</div>"
      ],
      "text/plain": [
       "    epoch  accuracy      loss  val_accuracy  val_loss\n",
       "0       0  0.387766  1.320433      0.487032  1.265784\n",
       "1       1  0.686410  0.928869      0.671470  0.892455\n",
       "2       2  0.810684  0.544549      0.682997  0.783288\n",
       "3       3  0.850540  0.400865      0.717579  0.777842\n",
       "4       4  0.884860  0.316933      0.691643  0.842842\n",
       "5       5  0.909770  0.261663      0.691643  0.909188\n",
       "6       6  0.926377  0.218621      0.665706  0.936368\n",
       "7       7  0.944921  0.179706      0.677233  1.071458\n",
       "8       8  0.956546  0.151955      0.659942  1.074402\n",
       "9       9  0.958207  0.137433      0.677233  1.162666\n",
       "10     10  0.961528  0.120265      0.671470  1.187410\n",
       "11     11  0.964849  0.118109      0.674352  1.231954\n",
       "12     12  0.969278  0.101824      0.642651  1.281527\n",
       "13     13  0.970661  0.096609      0.668588  1.306869\n",
       "14     14  0.970661  0.094541      0.671470  1.351030\n",
       "15     15  0.972876  0.089598      0.662824  1.361344\n",
       "16     16  0.973706  0.082814      0.662824  1.424182\n",
       "17     17  0.975920  0.074834      0.659942  1.419805\n",
       "18     18  0.974260  0.076001      0.671470  1.438282\n",
       "19     19  0.975920  0.071804      0.659942  1.480592\n",
       "20     20  0.976197  0.074118      0.657061  1.497049\n",
       "21     21  0.975090  0.071904      0.665706  1.521040\n",
       "22     22  0.976197  0.073301      0.662824  1.570789\n",
       "23     23  0.977581  0.064013      0.659942  1.624448\n",
       "24     24  0.977027  0.067298      0.659942  1.566864"
      ]
     },
     "execution_count": 24,
     "metadata": {},
     "output_type": "execute_result"
    }
   ],
   "source": [
    "#Let's take a look at the training log\n",
    "training_log = pd.DataFrame()\n",
    "training_log = pd.read_csv(\"logs/training_log.csv\")\n",
    "training_log"
   ]
  },
  {
   "cell_type": "markdown",
   "metadata": {},
   "source": [
    "---\n",
    "### ** >>> Exercise 6 (Take home): **  \n",
    "\n",
    "Plot the Training and Validation Accuracy and Loss (different plots), just like the images below (Note: the pictures below are an example from a different model). How to interpret the graphs you got? How are they related to the concept of overfitting/underfitting covered in class?\n"
   ]
  },
  {
   "cell_type": "code",
   "execution_count": 25,
   "metadata": {},
   "outputs": [
    {
     "data": {
      "text/plain": [
       "<matplotlib.axes._subplots.AxesSubplot at 0x26262259b88>"
      ]
     },
     "execution_count": 25,
     "metadata": {},
     "output_type": "execute_result"
    },
    {
     "data": {
      "image/png": "[encoded data removed]",
      "text/plain": [
       "<Figure size 432x288 with 1 Axes>"
      ]
     },
     "metadata": {
      "needs_background": "light"
     },
     "output_type": "display_data"
    }
   ],
   "source": [
    "# Answer here\n",
    "df = pd.DataFrame()\n",
    "df['Train_accuracy'] = training_log['accuracy']\n",
    "df['Val_accuracy'] = training_log['val_accuracy']\n",
    "\n",
    "df.plot(kind = 'line',\n",
    "        title = 'Training Accuracy per epoch',     \n",
    "        rot = 0, fontsize = 11, figsize = (6,4))"
   ]
  },
  {
   "cell_type": "code",
   "execution_count": 26,
   "metadata": {},
   "outputs": [
    {
     "data": {
      "text/plain": [
       "<matplotlib.axes._subplots.AxesSubplot at 0x262632a5d88>"
      ]
     },
     "execution_count": 26,
     "metadata": {},
     "output_type": "execute_result"
    },
    {
     "data": {
      "image/png": "[encoded data removed]",
      "text/plain": [
       "<Figure size 432x288 with 1 Axes>"
      ]
     },
     "metadata": {
      "needs_background": "light"
     },
     "output_type": "display_data"
    }
   ],
   "source": [
    "df = pd.DataFrame()\n",
    "df['Train_loss'] = training_log['loss']\n",
    "df['Val_loss'] = training_log['val_loss']\n",
    "\n",
    "df.plot(kind = 'line',\n",
    "        title = 'Training Loss per epoch',     \n",
    "        rot = 0, fontsize = 11, figsize = (6,4))"
   ]
  },
  {
   "cell_type": "markdown",
   "metadata": {},
   "source": [
    "* As we can see above, at epoch 4, validation loss starts to rise and validation accuracy begin decreasing but training performance on training data is still improving. Which means the model starts to overfit on the training data at epoch 4. Hence, the test result will get worse and val_error continue rising.\n",
    "\n",
    "* The model complexity is too much over for this small dataset, which cause this overfitting. We can add dropout layer to prevent from this."
   ]
  },
  {
   "cell_type": "markdown",
   "metadata": {},
   "source": [
    "---\n",
    "### ** >>> Exercise 7 (Take home): **  \n",
    "\n",
    "Now, we have the word vectors, but our input data is a sequence of words (or say sentence). \n",
    "How can we utilize these \"word\" vectors to represent the sentence data and train our model?\n"
   ]
  },
  {
   "cell_type": "markdown",
   "metadata": {},
   "source": [
    "#-----------------------------------------------------------------<br>\n",
    "Skip those blocks for getting the word vectors\n",
    "#-----------------------------------------------------------------"
   ]
  },
  {
   "cell_type": "markdown",
   "metadata": {},
   "source": [
    "##### Answer here\n",
    "* Method I:\n",
    "        Just concate these vectors into 1-D sequence, then, put it into dense for training.\n",
    "        (Set limit len, if larger, cut; if shorter, padding)\n",
    "\n",
    "* Method II:\n",
    "        Concate these vectors into 2-D matrix, then do few convolution layer to extrac feature, then put into dense.\n"
   ]
  },
  {
   "cell_type": "markdown",
   "metadata": {},
   "source": [
    "---\n",
    "### ** >>> Exercise 8 (Take home): **  \n",
    "\n",
    "Generate a t-SNE visualization to show the 15 words most related to the words \"angry\", \"happy\", \"sad\", \"fear\" (60 words total)."
   ]
  },
  {
   "cell_type": "code",
   "execution_count": 29,
   "metadata": {},
   "outputs": [
    {
     "name": "stdout",
     "output_type": "stream",
     "text": [
      "load ok\n"
     ]
    }
   ],
   "source": [
    "%matplotlib inline\n",
    "import matplotlib.pyplot as plt\n",
    "from sklearn.manifold import TSNE\n",
    "\n",
    "from gensim.models import KeyedVectors\n",
    "\n",
    "## Note: this model is very huge, this will take some time ...\n",
    "model_path = \"GoogleNews/GoogleNews-vectors-negative300.bin.gz\"\n",
    "w2v_google_model = KeyedVectors.load_word2vec_format(model_path, binary=True)\n",
    "print('load ok')"
   ]
  },
  {
   "cell_type": "code",
   "execution_count": 30,
   "metadata": {},
   "outputs": [
    {
     "name": "stdout",
     "output_type": "stream",
     "text": [
      "angry_words: \n",
      " ['irate', 'enraged', 'indignant', 'incensed', 'annoyed', 'agitated', 'frustrated', 'furious', 'unhappy', 'outraged', 'livid', 'irritated', 'exasperated', 'angrier', 'Angry']\n",
      "\n",
      "\n",
      "happy_words: \n",
      " ['glad', 'pleased', 'ecstatic', 'overjoyed', 'thrilled', 'satisfied', 'proud', 'delighted', 'disappointed', 'excited', 'happier', 'Said_Hirschbeck', 'elated', 'thankful', 'unhappy']\n",
      "\n",
      "\n",
      "sad_words: \n",
      " ['saddening', 'Sad', 'saddened', 'heartbreaking', 'disheartening', 'Meny_Friedman', 'parishioner_Pat_Patello', 'saddens_me', 'distressing', 'reminders_bobbing', 'Turkoman_Shiites', 'saddest', 'unfortunate', 'sorry', 'bittersweet']\n",
      "\n",
      "\n",
      "fear_words: \n",
      " ['fearful', 'fears', 'Fear', 'fearing', 'worry', 'dread', 'feared', 'anxiety', 'apprehension', 'afraid', 'worries', 'concern', 'distrust', 'worried', 'Fearful']\n"
     ]
    }
   ],
   "source": [
    "word_list = ['angry', 'happy', 'sad', 'fear']\n",
    "\n",
    "topn = 15\n",
    "angry_words = [word_ for word_, sim_ in w2v_google_model.most_similar('angry', topn=topn)]\n",
    "happy_words = [word_ for word_, sim_ in w2v_google_model.most_similar('happy', topn=topn)]        \n",
    "sad_words = [word_ for word_, sim_ in w2v_google_model.most_similar('sad', topn=topn)]        \n",
    "fear_words = [word_ for word_, sim_ in w2v_google_model.most_similar('fear', topn=topn)]        \n",
    "\n",
    "print('angry_words: \\n', angry_words)\n",
    "print('\\n')\n",
    "print('happy_words: \\n', happy_words)\n",
    "print('\\n')\n",
    "print('sad_words: \\n', sad_words)\n",
    "print('\\n')\n",
    "print('fear_words: \\n', fear_words)"
   ]
  },
  {
   "cell_type": "code",
   "execution_count": 31,
   "metadata": {},
   "outputs": [
    {
     "data": {
      "image/png": "[encoded data removed]",
      "text/plain": [
       "<Figure size 1725x1725 with 1 Axes>"
      ]
     },
     "metadata": {
      "needs_background": "light"
     },
     "output_type": "display_data"
    }
   ],
   "source": [
    "import matplotlib.pyplot as plt\n",
    "from sklearn.manifold import TSNE\n",
    "\n",
    "%matplotlib inline\n",
    "\n",
    "target_words = angry_words + happy_words + sad_words + fear_words\n",
    "\n",
    "cn = topn \n",
    "color = ['b'] * cn + ['g'] * cn + ['r'] * cn + ['y'] * cn\n",
    "\n",
    "## w2v model\n",
    "model = w2v_google_model\n",
    "\n",
    "## prepare training word vectors\n",
    "size = 200\n",
    "target_size = len(target_words)\n",
    "all_word = list(model.vocab.keys())\n",
    "word_train = target_words + all_word[:size]\n",
    "X_train = model[word_train]\n",
    "\n",
    "## t-SNE model\n",
    "tsne = TSNE(n_components=2, metric='cosine', random_state=28)\n",
    "\n",
    "## training\n",
    "X_tsne = tsne.fit_transform(X_train)\n",
    "\n",
    "## plot the result\n",
    "plt.figure(figsize=(15, 15), dpi=115)\n",
    "plt.scatter(X_tsne[:target_size, 0], X_tsne[:target_size, 1], c=color)\n",
    "for label, x, y in zip(target_words, X_tsne[:target_size, 0], X_tsne[:target_size, 1]):\n",
    "    plt.annotate(label, xy=(x,y), xytext=(0,0),  textcoords='offset points')\n",
    "plt.show()"
   ]
  },
  {
   "cell_type": "markdown",
   "metadata": {},
   "source": [
    "## <center> Part II"
   ]
  },
  {
   "cell_type": "markdown",
   "metadata": {},
   "source": [
    "* The snapshot of the private leader board ranking has been included on the top cell. \n",
    "* Ranked 7th."
   ]
  },
  {
   "cell_type": "markdown",
   "metadata": {},
   "source": [
    "## <center> Part III"
   ]
  },
  {
   "cell_type": "markdown",
   "metadata": {},
   "source": [
    "###### First\n",
    "    * Load the given dataset and seperate them into Train and Testing data.\n",
    "    * Save the tidy dataframe into .pkl file"
   ]
  },
  {
   "cell_type": "markdown",
   "metadata": {},
   "source": [
    "###### Second\n",
    "    * After shuffing, Take the lastest 200000 files from Train as my validation data.\n",
    "    * Then, data preprocessing and feature extraction starts ! \n",
    "    * Feature's below:"
   ]
  },
  {
   "cell_type": "markdown",
   "metadata": {},
   "source": [
    "* TFiDF\n",
    "    1. Do text cleaning by re and beautifulsoup library.\n",
    "    2. Do lematization before countervecterizor in order to get a more useful tfidf matrix.\n",
    "    3. Get rid of those stop words and set max_df, min_df for countervecterizor."
   ]
  },
  {
   "cell_type": "markdown",
   "metadata": {},
   "source": [
    "* NLTK sentiment analysis\n",
    "    1. Get a 1* 4 vector for each tweet."
   ]
  },
  {
   "cell_type": "markdown",
   "metadata": {},
   "source": [
    "* Impotant words count\n",
    "    1. not and n't.\n",
    "    2. why.\n",
    "    3. when.\n",
    "    4. how\n",
    "    5. ?\n",
    "    6. !\n",
    "\n",
    "\n",
    "* Sentence length count"
   ]
  },
  {
   "cell_type": "markdown",
   "metadata": {},
   "source": [
    "* The time for the tweet\n",
    "    1. (0~24) o'clock"
   ]
  },
  {
   "cell_type": "markdown",
   "metadata": {},
   "source": [
    "###### Third\n",
    "    * Try different models to fit the training data.\n",
    "    * Take the model with the best validation accuracy to predict testing data.\n",
    "    * Models I've tried below:\n",
    "   "
   ]
  },
  {
   "cell_type": "markdown",
   "metadata": {},
   "source": [
    "* RandomForest\n",
    "    1. Got about 0.48 valid acc."
   ]
  },
  {
   "cell_type": "markdown",
   "metadata": {},
   "source": [
    "* XGBOOST\n",
    "    1. Got about 0.51 valid acc.\n",
    "    2. Got about 0.41 testing acc on public leader board"
   ]
  },
  {
   "cell_type": "markdown",
   "metadata": {},
   "source": [
    "* Neural Net Work (just consist of dense)\n",
    "    1. Got about 0.52 valid acc.\n",
    "    2. Got about 0.41 testing acc on public leader board"
   ]
  },
  {
   "cell_type": "markdown",
   "metadata": {},
   "source": [
    "###### Fourth\n",
    "    * I tried a lot to do feature extraction and I found that the feature 'tweet time' is really helpful.\n",
    "    * Those words counting for 'when, how, why not' do not show obvious improvement on the valid acc.\n",
    "\n",
    "    * After doing a while, I think that the traditional way like tdidf and BOW may not that useful in this emotion prediction case. Because lots of emotions is been expressed by words combination but Tfidf method do not considered the order of the sentence. \n",
    "    For example, 'I may eat that cake later' is really different from 'May I eat that cake later'.\n",
    "    For another example, 'Yor are so handsome! I am so ugly.' is really different from 'You are so ugly but I am so hansome'. But they shares the same tfidf matrix."
   ]
  },
  {
   "cell_type": "markdown",
   "metadata": {},
   "source": [
    "##### As the result, I want to solve this problem in a sequential learning way"
   ]
  },
  {
   "cell_type": "markdown",
   "metadata": {},
   "source": [
    "* The most quick way to imply is to build a pretrained BERT model in tensorflow.\n",
    "* Do the transfer learning on this dataset"
   ]
  },
  {
   "cell_type": "markdown",
   "metadata": {},
   "source": [
    "* BERT\n",
    "    1. Got about 0.66 valid acc.\n",
    "    2. Got about 0.54 testing acc on public leader board\n",
    "    \n",
    "    <br>\n",
    "* Vote for few BERT checkpoints\n",
    "    1. Got about 0.55 testing acc on public leader board"
   ]
  },
  {
   "cell_type": "markdown",
   "metadata": {},
   "source": [
    "* For BERT, I've tried fix it in two ways.<br>\n",
    "One is fit by raw tweet data.<br>\n",
    "One is fit by text-cleaned data which get rid of those @abcde..., #... redundant words.<br>\n",
    "Suprisely, the performance of both are similar, the second one do not show the improvent as I expect."
   ]
  },
  {
   "cell_type": "markdown",
   "metadata": {},
   "source": [
    "## Some codes below: "
   ]
  },
  {
   "cell_type": "markdown",
   "metadata": {},
   "source": [
    "###### Bert Part"
   ]
  },
  {
   "cell_type": "markdown",
   "metadata": {},
   "source": [
    "* Libraries"
   ]
  },
  {
   "cell_type": "code",
   "execution_count": null,
   "metadata": {},
   "outputs": [],
   "source": [
    "import tensorflow as tf\n",
    "import pandas as pd\n",
    "import numpy as np\n",
    "from transformers import BertTokenizer"
   ]
  },
  {
   "cell_type": "markdown",
   "metadata": {},
   "source": [
    "* Data generators"
   ]
  },
  {
   "cell_type": "code",
   "execution_count": null,
   "metadata": {},
   "outputs": [],
   "source": [
    "class T_DatasetGenerator:\n",
    "\n",
    "    def __init__(self, Data_path, Label_path, begin, end):\n",
    "        self.categories = ['anger', 'anticipation', 'disgust', 'fear', 'sadness', 'surprise', 'trust', 'joy']\n",
    "        \n",
    "        self.df_data = pd.read_pickle(Data_path)\n",
    "        self.df_label = pd.read_pickle(Label_path)\n",
    "        \n",
    "        #self.df_data['tweet_text'] = self.df_data.tweet_text.apply(lambda x: self.clean_text(x))\n",
    "        \n",
    "        self.data = list(self.df_data['tweet_text'][begin:end])\n",
    "        self.label = list(self.df_label['emotion'][begin:end])\n",
    "        del self.df_data\n",
    "        del self.df_label\n",
    "        self.data_tranpose = np.array([self.data, self.label]).T\n",
    "        \n",
    "        self.data_tuple = tuple(self.data_tranpose) \n",
    "        \n",
    "        # Bert\n",
    "        self.tokenizer = BertTokenizer.from_pretrained('bert-base-uncased', do_lower_case=True)\n",
    "\n",
    "        self.input_ids_list = []\n",
    "        self.token_type_ids_list = []\n",
    "        self.attention_mask_list = []\n",
    "        self.label_list = []\n",
    "        \n",
    "        for data, label in self.data_tuple:\n",
    "            bert_input = self.get_bert_input(80, data)\n",
    "            \n",
    "            self.input_ids_list.append(bert_input['input_ids'])\n",
    "            self.token_type_ids_list.append(bert_input['token_type_ids'])\n",
    "            self.attention_mask_list.append(bert_input['attention_mask'])\n",
    "            \n",
    "            self.label_list.append(self.label_transform(label))\n",
    "    \n",
    "    def clean_text(self, text):\n",
    "        text = re.sub(r\"@[A-Za-z0-9]+\", ' ', text)\n",
    "        text = re.sub(r\"https?://[A-Za-z0-9./]+\", ' ', text)\n",
    "\n",
    "        return text\n",
    "    \n",
    "    \n",
    "    def get_bert_input(self, max_length_limit, sentences):\n",
    "        \n",
    "        return self.tokenizer.encode_plus(\n",
    "                            sentences,                      \n",
    "                            add_special_tokens = True, # add [CLS], [SEP]\n",
    "                            max_length = max_length_limit, # max length of the text that can go to BERT\n",
    "                            pad_to_max_length = True, # add [PAD] tokens\n",
    "                            return_attention_mask = True # add attention mask to not focus on pad tokens\n",
    "                  )    \n",
    "    \n",
    "    def label_transform(self, x):\n",
    "        return self.categories.index(x)\n",
    "    \n",
    "    def map_example_to_dict(self, input_ids, attention_masks, token_type_ids, label):\n",
    "        label_onehot = tf.one_hot(label, depth = 8)\n",
    "        return {\n",
    "              \"input_ids\": input_ids,\n",
    "              \"token_type_ids\": token_type_ids,\n",
    "              \"attention_mask\": attention_masks,\n",
    "               }, label, label_onehot\n",
    "\n",
    "    def generate(self, N, BATCH_SIZE):\n",
    "        dataset = tf.data.Dataset.from_tensor_slices((self.input_ids_list, self.attention_mask_list, self.token_type_ids_list, self.label_list))\n",
    "        dataset = dataset.map(self.map_example_to_dict, num_parallel_calls = tf.data.experimental.AUTOTUNE)\n",
    "        dataset = dataset.shuffle(N)\n",
    "        dataset = dataset.batch(BATCH_SIZE,True)\n",
    "\n",
    "        return dataset"
   ]
  },
  {
   "cell_type": "code",
   "execution_count": null,
   "metadata": {},
   "outputs": [],
   "source": [
    "class V_DatasetGenerator:\n",
    "\n",
    "    def __init__(self, Data_path, Label_path, begin, end):\n",
    "        self.categories = ['anger', 'anticipation', 'disgust', 'fear', 'sadness', 'surprise', 'trust', 'joy']\n",
    "        \n",
    "        self.df_data = pd.read_pickle(Data_path)\n",
    "        self.df_label = pd.read_pickle(Label_path)\n",
    "        \n",
    "        self.df_data['tweet_text'] = self.df_data.tweet_text.apply(lambda x: self.clean_text(x))\n",
    "        \n",
    "        self.data = list(self.df_data['tweet_text'][begin:end])\n",
    "        self.label = list(self.df_label['emotion'][begin:end])\n",
    "        del self.df_data\n",
    "        del self.df_label\n",
    "        self.data_tranpose = np.array([self.data, self.label]).T\n",
    "        \n",
    "        self.data_tuple = tuple(self.data_tranpose) \n",
    "        \n",
    "        # Bert\n",
    "        self.tokenizer = BertTokenizer.from_pretrained('bert-base-uncased', do_lower_case=True)\n",
    "\n",
    "        self.input_ids_list = []\n",
    "        self.token_type_ids_list = []\n",
    "        self.attention_mask_list = []\n",
    "        self.label_list = []\n",
    "        \n",
    "        for data, label in self.data_tuple:\n",
    "            bert_input = self.get_bert_input(80, data)\n",
    "            \n",
    "            self.input_ids_list.append(bert_input['input_ids'])\n",
    "            self.token_type_ids_list.append(bert_input['token_type_ids'])\n",
    "            self.attention_mask_list.append(bert_input['attention_mask'])\n",
    "            \n",
    "            self.label_list.append(self.label_transform(label))\n",
    "    \n",
    "    def clean_text(self, text):\n",
    "        text = re.sub(r\"@[A-Za-z0-9]+\", ' ', text)\n",
    "        text = re.sub(r\"https?://[A-Za-z0-9./]+\", ' ', text)\n",
    "\n",
    "        return text\n",
    "    \n",
    "    def get_bert_input(self, max_length_limit, sentences):\n",
    "        \n",
    "        return self.tokenizer.encode_plus(\n",
    "                            sentences,                      \n",
    "                            add_special_tokens = True, # add [CLS], [SEP]\n",
    "                            max_length = max_length_limit, # max length of the text that can go to BERT\n",
    "                            pad_to_max_length = True, # add [PAD] tokens\n",
    "                            return_attention_mask = True # add attention mask to not focus on pad tokens\n",
    "                  )    \n",
    "    \n",
    "    def label_transform(self, x):\n",
    "        return self.categories.index(x)\n",
    "    \n",
    "    def map_example_to_dict(self, input_ids, attention_masks, token_type_ids, label):\n",
    "        label_onehot = tf.one_hot(label, depth = 8)\n",
    "        return {\n",
    "              \"input_ids\": input_ids,\n",
    "              \"token_type_ids\": token_type_ids,\n",
    "              \"attention_mask\": attention_masks,\n",
    "               }, label, label_onehot\n",
    "\n",
    "    def generate(self, BATCH_SIZE):\n",
    "        dataset = tf.data.Dataset.from_tensor_slices((self.input_ids_list, self.attention_mask_list, self.token_type_ids_list, self.label_list))\n",
    "        dataset = dataset.map(self.map_example_to_dict, num_parallel_calls = tf.data.experimental.AUTOTUNE)\n",
    "        dataset = dataset.batch(BATCH_SIZE,True)\n",
    "\n",
    "        return dataset"
   ]
  },
  {
   "cell_type": "code",
   "execution_count": null,
   "metadata": {},
   "outputs": [],
   "source": [
    "class Test_DatasetGenerator:\n",
    "\n",
    "    def __init__(self, Data_path):\n",
    "\n",
    "        self.df_data = pd.read_pickle(Data_path)      \n",
    "        \n",
    "        #self.df_data['tweet_text'] = self.df_data.tweet_text.apply(lambda x: self.clean_text(x))\n",
    "        \n",
    "        self.data = list(self.df_data['tweet_text'])\n",
    "        del self.df_data\n",
    "\n",
    "        #self.data_tuple = tuple(self.data_tranpose) \n",
    "        \n",
    "        # Bert\n",
    "        self.tokenizer = BertTokenizer.from_pretrained('bert-base-uncased', do_lower_case=True)\n",
    "\n",
    "        self.input_ids_list = []\n",
    "        self.token_type_ids_list = []\n",
    "        self.attention_mask_list = []\n",
    "        \n",
    "        for data in self.data:\n",
    "            bert_input = self.get_bert_input(80, data)\n",
    "            \n",
    "            self.input_ids_list.append(bert_input['input_ids'])\n",
    "            self.token_type_ids_list.append(bert_input['token_type_ids'])\n",
    "            self.attention_mask_list.append(bert_input['attention_mask'])\n",
    "            \n",
    "    def clean_text(self, text):\n",
    "        text = re.sub(r\"@[A-Za-z0-9]+\", ' ', text)\n",
    "        text = re.sub(r\"https?://[A-Za-z0-9./]+\", ' ', text)\n",
    "\n",
    "        return text\n",
    "    \n",
    "    def get_bert_input(self, max_length_limit, sentences):\n",
    "        \n",
    "        return self.tokenizer.encode_plus(\n",
    "                            sentences,                      \n",
    "                            add_special_tokens = True, # add [CLS], [SEP]\n",
    "                            max_length = max_length_limit, # max length of the text that can go to BERT\n",
    "                            pad_to_max_length = True, # add [PAD] tokens\n",
    "                            return_attention_mask = True # add attention mask to not focus on pad tokens\n",
    "                  )    \n",
    "    \n",
    "    def map_example_to_dict(self, input_ids, attention_masks, token_type_ids):\n",
    "        \n",
    "        return {\n",
    "              \"input_ids\": input_ids,\n",
    "              \"token_type_ids\": token_type_ids,\n",
    "              \"attention_mask\": attention_masks,\n",
    "               }\n",
    "\n",
    "    def generate(self, BATCH_SIZE):\n",
    "        dataset = tf.data.Dataset.from_tensor_slices((self.input_ids_list, self.attention_mask_list, self.token_type_ids_list))\n",
    "        dataset = dataset.map(self.map_example_to_dict, num_parallel_calls = tf.data.experimental.AUTOTUNE)\n",
    "        dataset = dataset.batch(BATCH_SIZE,True)\n",
    "\n",
    "        return dataset"
   ]
  },
  {
   "cell_type": "code",
   "execution_count": null,
   "metadata": {},
   "outputs": [],
   "source": [
    "Train_G = T_DatasetGenerator('./Data/Train_Data.pkl','./Data/Train_Label.pkl', 0, 1400000)\n",
    "train_dataset = Train_G.generate(1000000, 40)\n",
    "train_dataset"
   ]
  },
  {
   "cell_type": "code",
   "execution_count": null,
   "metadata": {},
   "outputs": [],
   "source": [
    "Valid_G = V_DatasetGenerator('./Data/Train_Data.pkl','./Data/Train_Label.pkl', 1200000, 1400000)\n",
    "valid_dataset = Valid_G.generate(50)\n",
    "valid_dataset"
   ]
  },
  {
   "cell_type": "code",
   "execution_count": null,
   "metadata": {},
   "outputs": [],
   "source": [
    "Test_G = Test_DatasetGenerator('./Data/Test_Data.pkl')\n",
    "test_dataset = Test_G.generate(132)\n",
    "test_dataset"
   ]
  },
  {
   "cell_type": "markdown",
   "metadata": {},
   "source": [
    "* Model build"
   ]
  },
  {
   "cell_type": "code",
   "execution_count": null,
   "metadata": {},
   "outputs": [],
   "source": [
    "from transformers import TFBertForSequenceClassification\n",
    "\n",
    "PRETRAINED_MODEL_NAME = \"bert-base-uncased\"\n",
    "NUM_LABELS = 8\n",
    "\n",
    "My_model = TFBertForSequenceClassification.from_pretrained(\n",
    "    PRETRAINED_MODEL_NAME, num_labels=NUM_LABELS)"
   ]
  },
  {
   "cell_type": "markdown",
   "metadata": {},
   "source": [
    "* Define my loss function which can deal with data unbalance"
   ]
  },
  {
   "cell_type": "code",
   "execution_count": null,
   "metadata": {},
   "outputs": [],
   "source": [
    "def my_loss(onehot_label, Result):\n",
    "\n",
    "    #class_weight = tf.constant([12, 2, 3.7, 8, 2.6, 10.6, 2.5, 1], dtype=tf.float32)\n",
    "    class_weight = tf.constant([1, 1, 1, 1, 1, 1, 1, 1], dtype=tf.float32)\n",
    "    \n",
    "    weights = tf.reduce_sum(class_weight * onehot_label, axis=1)\n",
    "    \n",
    "    unweighted_loss = tf.keras.losses.categorical_crossentropy(onehot_label, Result[0], from_logits=True)\n",
    "\n",
    "    weighted_loss = unweighted_loss * weights\n",
    "    \n",
    "    loss = tf.reduce_mean(unweighted_loss)\n",
    "    \n",
    "    return loss"
   ]
  },
  {
   "cell_type": "markdown",
   "metadata": {},
   "source": [
    "* Learning rate and optimizer"
   ]
  },
  {
   "cell_type": "code",
   "execution_count": null,
   "metadata": {},
   "outputs": [],
   "source": [
    "LEARNING_RATE = 2 * 1e-5\n",
    "My_model_optimizer = tf.keras.optimizers.Adam(LEARNING_RATE)"
   ]
  },
  {
   "cell_type": "markdown",
   "metadata": {},
   "source": [
    "* Train step function"
   ]
  },
  {
   "cell_type": "code",
   "execution_count": null,
   "metadata": {},
   "outputs": [],
   "source": [
    "@tf.function\n",
    "def train_step(onehot, Img):\n",
    "    \n",
    "    with tf.GradientTape() as gen_tape:\n",
    "\n",
    "        Result = My_model(Img,training = True)\n",
    "    #########################################################################################\n",
    "        loss = my_loss(onehot, Result)\n",
    "        #loss = tf.reduce_mean(tf.square(Label -  Result)) \n",
    "    #########################################################################################\n",
    "    grad_g = gen_tape.gradient(loss, My_model.trainable_variables)\n",
    "\n",
    "    My_model_optimizer.apply_gradients(zip(grad_g, My_model.trainable_variables))\n",
    "    return loss"
   ]
  },
  {
   "cell_type": "markdown",
   "metadata": {},
   "source": [
    "* My predict step"
   ]
  },
  {
   "cell_type": "code",
   "execution_count": null,
   "metadata": {},
   "outputs": [],
   "source": [
    "def predict(data):\n",
    "    x = []\n",
    "    y = []\n",
    "    for  Img, Label, onehot in data:\n",
    "        Result = My_model(Img,training = True)\n",
    "        Result = Result[0]\n",
    "        x = tf.concat([x,tf.math.argmax(Result, 1)],0)\n",
    "        \n",
    "        y = tf.concat([y,Label],0)\n",
    "        #print(tf.math.argmax(Result, 1))\n",
    "        #print(Label)\n",
    "    \n",
    "    m = tf.keras.metrics.Accuracy()\n",
    "    _ = m.update_state(y, x)\n",
    "    #print(m.result().numpy())\n",
    "    return m.result().numpy(), x"
   ]
  },
  {
   "cell_type": "markdown",
   "metadata": {},
   "source": [
    "* Start training"
   ]
  },
  {
   "cell_type": "code",
   "execution_count": null,
   "metadata": {},
   "outputs": [],
   "source": [
    "from datetime import datetime\n",
    "\n",
    "print(\"{}, start training.\".format(datetime.now()))\n",
    "#---------------------------------------------------\n",
    "\n",
    "for epoch in range(3):\n",
    "    cnt = 0\n",
    "    total_loss = 0\n",
    "    for Img, Label, onehot in train_dataset:\n",
    "        loss = train_step(onehot, Img)\n",
    "        total_loss = total_loss + loss.numpy()\n",
    "\n",
    "    acc, y = predict(valid_dataset)  \n",
    "\n",
    "    print(\"{}, Epoch {}: loss {:.2f} => valid_acc {:.4f}\".format(datetime.now(), epoch+1, total_loss, acc))   "
   ]
  },
  {
   "cell_type": "markdown",
   "metadata": {},
   "source": [
    "* Get the final prediction for testing data"
   ]
  },
  {
   "cell_type": "code",
   "execution_count": null,
   "metadata": {},
   "outputs": [],
   "source": [
    "x = []\n",
    "for  Img in test_dataset:\n",
    "    Result = My_model(Img,training = True)\n",
    "    Result = Result[0]\n",
    "    x = tf.concat([x,tf.math.argmax(Result, 1)],0)\n",
    "\n",
    "ans = x.numpy()"
   ]
  },
  {
   "cell_type": "markdown",
   "metadata": {},
   "source": [
    "###### XGBOOST Part"
   ]
  },
  {
   "cell_type": "markdown",
   "metadata": {},
   "source": [
    "* Text cleaning and lematization"
   ]
  },
  {
   "cell_type": "code",
   "execution_count": null,
   "metadata": {},
   "outputs": [],
   "source": [
    "import re\n",
    "from bs4 import BeautifulSoup\n",
    "from nltk import word_tokenize, pos_tag\n",
    "from nltk.corpus import wordnet\n",
    "from nltk.stem import WordNetLemmatizer\n",
    "\n",
    "class DatasetGenerator:\n",
    "\n",
    "    def __init__(self):\n",
    "        # Creat glove dictionary\n",
    "        self.embeddings_dict = {}\n",
    "\n",
    "    def preprocessor(self, text):\n",
    "        # remove <LH>\n",
    "        text = BeautifulSoup(text, 'html.parser').get_text()\n",
    "        r = '(?::|;|=|X)(?:-)?(?:\\)|\\(|D|P)'\n",
    "        emoticons = re.findall(r, text)\n",
    "        text = re.sub(r, '', text)\n",
    "        text = re.sub('[\\W]+', ' ', text.lower()) + ' ' + ' '.join(emoticons).replace('-','')\n",
    "        return text\n",
    "\n",
    "    def get_wordnet_pos(self, tag):\n",
    "        if tag.startswith('J'):\n",
    "            return wordnet.ADJ\n",
    "        elif tag.startswith('V'):\n",
    "            return wordnet.VERB\n",
    "        elif tag.startswith('N'):\n",
    "            return wordnet.NOUN\n",
    "        elif tag.startswith('R'):\n",
    "            return wordnet.ADV\n",
    "        else:\n",
    "            return None\n",
    "\n",
    "    def lema(self, sentence):            ############For lemmatization\n",
    "        \n",
    "        tokens = word_tokenize(sentence)  \n",
    "        tagged_sent = pos_tag(tokens)     \n",
    "\n",
    "        wnl = WordNetLemmatizer()\n",
    "        lemmas_sent = ''\n",
    "        for tag in tagged_sent:\n",
    "            wordnet_pos = self.get_wordnet_pos(tag[1]) or wordnet.NOUN\n",
    "            lemmas_sent = lemmas_sent + ' ' + (wnl.lemmatize(tag[0], pos=wordnet_pos)) \n",
    "\n",
    "        return lemmas_sent    "
   ]
  },
  {
   "cell_type": "markdown",
   "metadata": {},
   "source": [
    "* NLTK sentiment analysis"
   ]
  },
  {
   "cell_type": "code",
   "execution_count": null,
   "metadata": {},
   "outputs": [],
   "source": [
    "import nltk\n",
    "from nltk.sentiment.vader import SentimentIntensityAnalyzer\n",
    "#nltk.download('vader_lexicon')\n",
    "def nltk_sen(sen):\n",
    "    sid = SentimentIntensityAnalyzer()\n",
    "    ss = sid.polarity_scores(sen)\n",
    "\n",
    "    return list(ss.values())"
   ]
  },
  {
   "cell_type": "markdown",
   "metadata": {},
   "source": [
    "* Some counters"
   ]
  },
  {
   "cell_type": "code",
   "execution_count": null,
   "metadata": {},
   "outputs": [],
   "source": [
    "# Sentence len\n",
    "def num_cnt(sen):\n",
    "    return len(sen.split(' '))\n",
    "# not number\n",
    "def not_cnt(sen):\n",
    "    return len(sen.split(' not ')) + len(sen.split(\"n't\")) -2\n",
    "# why number\n",
    "def why_cnt(sen):\n",
    "    return len(sen.split(' why ')) -1\n",
    "# how number\n",
    "def how_cnt(sen):\n",
    "    return len(sen.split(' how ')) -1\n",
    "# when number\n",
    "def when_cnt(sen):\n",
    "    return len(sen.split(' when ')) -1\n",
    "# ? number\n",
    "def question_cnt(sen):\n",
    "    return len(sen.split(' ? ')) -1\n",
    "# ! number\n",
    "def sup_cnt(sen):\n",
    "    return len(sen.split(' ! ')) -1"
   ]
  },
  {
   "cell_type": "markdown",
   "metadata": {},
   "source": [
    "* Tweet time"
   ]
  },
  {
   "cell_type": "code",
   "execution_count": null,
   "metadata": {},
   "outputs": [],
   "source": [
    "def date_pick(date):\n",
    "        \n",
    "    return int(date.split(' ')[1].split(':')[0])"
   ]
  },
  {
   "cell_type": "markdown",
   "metadata": {},
   "source": [
    "* TFIDF"
   ]
  },
  {
   "cell_type": "code",
   "execution_count": null,
   "metadata": {},
   "outputs": [],
   "source": [
    "from sklearn.feature_extraction.text import CountVectorizer\n",
    "from sklearn.feature_extraction.text import TfidfTransformer"
   ]
  },
  {
   "cell_type": "code",
   "execution_count": null,
   "metadata": {},
   "outputs": [],
   "source": [
    "vecterizer = CountVectorizer(max_df = 0.5, min_df = 0.0004, stop_words = 'english')\n",
    "count = vecterizer.fit_transform(df_t.Sentence)\n",
    "transformer = TfidfTransformer()\n",
    "tfidf = transformer.fit_transform(count)\n",
    "tfidf_matrix = tfidf.toarray()\n",
    "tfidf_matrix.shape"
   ]
  },
  {
   "cell_type": "code",
   "execution_count": null,
   "metadata": {},
   "outputs": [],
   "source": [
    "count_test = vecterizer.transform(new_df_test.Sentence)\n",
    "tfidf_test = transformer.transform(count_test)\n",
    "tfidf_matrix_test = tfidf_test.toarray()\n",
    "tfidf_matrix_test.shape"
   ]
  },
  {
   "cell_type": "markdown",
   "metadata": {},
   "source": [
    "* XGBOOST Model"
   ]
  },
  {
   "cell_type": "code",
   "execution_count": null,
   "metadata": {},
   "outputs": [],
   "source": [
    "import xgboost as xgb\n",
    "from sklearn.metrics import accuracy_score\n",
    "\n",
    "dtrain = xgb.DMatrix(Train.datas[1000000:1200000], label=Train.labels[1000000:1200000])\n",
    "dvalid = xgb.DMatrix(Valid.datas[0:200000], label=Valid.labels[0:200000])\n",
    "dtest = xgb.DMatrix(Test.datas)\n",
    "\n",
    "param = {'max_depth': 7, 'eta': 0.3, 'objective': 'multi:softmax', 'num_class':8}\n",
    "param['eval_metric'] = 'mlogloss'\n",
    "param['gpu_id'] = 0\n",
    "param['tree_method'] = 'gpu_hist'\n",
    "evallist = [(dvalid, 'eval')]\n",
    "\n",
    "num_round = 100\n",
    "bst = xgb.train(param, dtrain, num_round, evallist)\n",
    "\n",
    "y_pred = bst.predict(dvalid)\n",
    "accuracy_score(y, y_pred)"
   ]
  },
  {
   "cell_type": "code",
   "execution_count": 32,
   "metadata": {},
   "outputs": [],
   "source": [
    "# The code is too long so far, skip the random forest and neural network fitting parts. \n",
    "# Just fitting the same data matrix XGBOOST used."
   ]
  },
  {
   "cell_type": "markdown",
   "metadata": {},
   "source": [
    "# <center>END"
   ]
  }
 ],
 "metadata": {
  "kernelspec": {
   "display_name": "Python 3",
   "language": "python",
   "name": "python3"
  },
  "language_info": {
   "codemirror_mode": {
    "name": "ipython",
    "version": 3
   },
   "file_extension": ".py",
   "mimetype": "text/x-python",
   "name": "python",
   "nbconvert_exporter": "python",
   "pygments_lexer": "ipython3",
   "version": "3.7.4"
  },
  "varInspector": {
   "cols": {
    "lenName": 16,
    "lenType": 16,
    "lenVar": 40
   },
   "kernels_config": {
    "python": {
     "delete_cmd_postfix": "",
     "delete_cmd_prefix": "del ",
     "library": "var_list.py",
     "varRefreshCmd": "print(var_dic_list())"
    },
    "r": {
     "delete_cmd_postfix": ") ",
     "delete_cmd_prefix": "rm(",
     "library": "var_list.r",
     "varRefreshCmd": "cat(var_dic_list()) "
    }
   },
   "types_to_exclude": [
    "module",
    "function",
    "builtin_function_or_method",
    "instance",
    "_Feature"
   ],
   "window_display": false
  }
 },
 "nbformat": 4,
 "nbformat_minor": 2
}
